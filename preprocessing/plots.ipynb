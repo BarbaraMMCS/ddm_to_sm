{
 "cells": [
  {
   "cell_type": "code",
   "execution_count": 58,
   "outputs": [],
   "source": [
    "from collections import defaultdict\n",
    "\n",
    "import h3\n",
    "import numpy as np\n",
    "import matplotlib.pyplot as plt\n",
    "from PIL import Image\n",
    "import netCDF4\n",
    "from preprocessing.config import BOUNDING_BOX, CYNGNSS_FEATURES_HEADER\n",
    "import glob \n",
    "import os\n",
    "import h3\n",
    "import csv\n",
    "import pandas as pd\n",
    "import h5py\n",
    "import seaborn as sns"
   ],
   "metadata": {
    "collapsed": false,
    "ExecuteTime": {
     "end_time": "2024-08-21T23:29:33.284522500Z",
     "start_time": "2024-08-21T23:29:32.660176500Z"
    }
   }
  },
  {
   "cell_type": "code",
   "execution_count": 18,
   "outputs": [],
   "source": [
    "# Water map plot\n",
    "water_map_filename = f'../data/water/lon_110_160_lat_-50_-10_20000x16000.npy'\n",
    "water_map = np.load(water_map_filename).astype(bool)\n",
    "im = np.uint8(water_map * 255)\n",
    "im = Image.fromarray(im)\n",
    "im.save('../figures/watermap.png')"
   ],
   "metadata": {
    "collapsed": false,
    "ExecuteTime": {
     "end_time": "2024-08-21T21:49:30.686749400Z",
     "start_time": "2024-08-21T21:49:27.830165900Z"
    }
   }
  },
  {
   "cell_type": "code",
   "execution_count": 39,
   "outputs": [],
   "source": [
    "# landcover map plot\n",
    "landcover_f = f'../data/landcover/lon_110_160_lat_-50_-10_18000x14400.npy'\n",
    "landcover = np.load(landcover_f)\n",
    "cm = plt.get_cmap('hot')\n",
    "im = cm(landcover / 210)\n",
    "im = np.uint8(im * 255)\n",
    "im = Image.fromarray(im)\n",
    "im.save('../figures/landcover.png')"
   ],
   "metadata": {
    "collapsed": false,
    "ExecuteTime": {
     "end_time": "2024-08-21T23:08:58.010091800Z",
     "start_time": "2024-08-21T23:08:43.507741900Z"
    }
   }
  },
  {
   "cell_type": "code",
   "execution_count": 30,
   "outputs": [],
   "source": [
    "# Cygnss before after\n",
    "def get_bbox_filter_mask(nc):\n",
    "    min_lon, min_lat, max_lon, max_lat = BOUNDING_BOX\n",
    "    lon_mask = ((nc['sp_lon'][:, :] >= min_lon) & (nc['sp_lon'][:, :] < max_lon)).flatten()\n",
    "    lat_mask = ((nc['sp_lat'][:, :] >= min_lat) & (nc['sp_lat'][:, :] < max_lat)).flatten()\n",
    "    return lon_mask & lat_mask\n",
    "\n",
    "def get_filter_mask(nc):\n",
    "    min_lon, min_lat, max_lon, max_lat = BOUNDING_BOX\n",
    "    flag_include = 1024\n",
    "    flag_exclude = (2 + 8 + 16 + 128 + 32768 + 65536)\n",
    "\n",
    "    flag_mask = ((np.bitwise_and(nc['quality_flags'][:, :], flag_include) == flag_include) & (\n",
    "            np.bitwise_and(nc['quality_flags'][:, :], flag_exclude) == 0)).flatten()\n",
    "\n",
    "    lon_mask = ((nc['sp_lon'][:, :] >= min_lon) & (nc['sp_lon'][:, :] < max_lon)).flatten()\n",
    "    lat_mask = ((nc['sp_lat'][:, :] >= min_lat) & (nc['sp_lat'][:, :] < max_lat)).flatten()\n",
    "    ddm_snr_mask = (nc['ddm_snr'][:, :] >= 0.5).flatten()\n",
    "    sp_inc_angle_mask = (nc['sp_inc_angle'][:, :] < 65).flatten()\n",
    "    return lon_mask & lat_mask & flag_mask & ddm_snr_mask & sp_inc_angle_mask\n",
    "\n",
    "lats = []\n",
    "lons = []\n",
    "values = []\n",
    "for filename in glob.glob(os.path.join('../data/data_cygnss_l1_v3.2/', '*.nc')):\n",
    "    nc = netCDF4.Dataset(filename)\n",
    "    bbox_filter_mask = get_bbox_filter_mask(nc)\n",
    "    values.append(get_filter_mask(nc)[bbox_filter_mask])\n",
    "    lons.append(nc['sp_lon'][:, :].flatten()[bbox_filter_mask])\n",
    "    lats.append(nc['sp_lat'][:, :].flatten()[bbox_filter_mask])\n",
    "\n",
    "pd.DataFrame({'lat': np.concat(lats, axis=0), 'lon': np.concat(lons, axis=0), 'values': np.concat(values, axis=0)}).to_csv('../figures/pre_process/3_days_cygnss_flags.csv', index=False)\n"
   ],
   "metadata": {
    "collapsed": false,
    "ExecuteTime": {
     "end_time": "2024-08-21T22:21:21.446619800Z",
     "start_time": "2024-08-21T22:21:18.784729800Z"
    }
   }
  },
  {
   "cell_type": "code",
   "execution_count": 34,
   "outputs": [],
   "source": [
    "# SMAP before after\n",
    "def get_bbox_filter_mask(smap, suffix):\n",
    "    min_lon, min_lat, max_lon, max_lat = BOUNDING_BOX\n",
    "    lon_mask = ((smap[f'longitude{suffix}'][:, :] >= min_lon) & (smap[f'longitude{suffix}'][:, :] < max_lon)).flatten()\n",
    "    lat_mask = ((smap[f'latitude{suffix}'][:, :] >= min_lat) & (smap[f'latitude{suffix}'][:, :] < max_lat)).flatten()\n",
    "    return lon_mask & lat_mask\n",
    "\n",
    "def get_filter_mask(smap, suffix=''):\n",
    "    flag_exclude = (1 + 2 + 4)\n",
    "    min_lon, min_lat, max_lon, max_lat = BOUNDING_BOX\n",
    "    flag_mask = ((np.bitwise_and(smap[f'retrieval_qual_flag{suffix}'][:, :], flag_exclude) == 0)).flatten()\n",
    "\n",
    "    lon_mask = ((smap[f'longitude{suffix}'][:, :] >= min_lon) & (smap[f'longitude{suffix}'][:, :] < max_lon)).flatten()\n",
    "    lat_mask = ((smap[f'latitude{suffix}'][:, :] >= min_lat) & (smap[f'latitude{suffix}'][:, :] < max_lat)).flatten()\n",
    "\n",
    "    return flag_mask & lon_mask & lat_mask\n",
    "\n",
    "lats = []\n",
    "lons = []\n",
    "values = []\n",
    "for filename in sorted(glob.glob(os.path.join('../data/SPL3SMP_E/', '*.h5'))):\n",
    "    smap_file = h5py.File(filename)\n",
    "    for period in ['PM', 'AM']:\n",
    "        smap = smap_file[f'Soil_Moisture_Retrieval_Data_{period}']\n",
    "        suffix = '_pm' if period == 'PM' else ''\n",
    "        bbox_filter_mask = get_bbox_filter_mask(smap, suffix)\n",
    "        values.append(get_filter_mask(smap, suffix)[bbox_filter_mask])\n",
    "        lons.append(smap['longitude' + suffix][:, :].flatten()[bbox_filter_mask])\n",
    "        lats.append(smap['latitude' + suffix][:, :].flatten()[bbox_filter_mask])\n",
    "\n",
    "\n",
    "pd.DataFrame({'lat': np.concat(lats, axis=0), 'lon': np.concat(lons, axis=0), 'values': np.concat(values, axis=0)}).to_csv('../figures/pre_process/_14_days_smap_flags.csv', index=False)\n"
   ],
   "metadata": {
    "collapsed": false,
    "ExecuteTime": {
     "end_time": "2024-08-21T22:57:31.099633Z",
     "start_time": "2024-08-21T22:56:55.274524900Z"
    }
   }
  },
  {
   "cell_type": "code",
   "execution_count": 175,
   "outputs": [],
   "source": [
    "\n",
    "# SMAP before after flag 1 not excluded\n",
    "def get_bbox_filter_mask(smap, suffix):\n",
    "    min_lon, min_lat, max_lon, max_lat = BOUNDING_BOX\n",
    "    lon_mask = ((smap[f'longitude{suffix}'][:, :] >= min_lon) & (smap[f'longitude{suffix}'][:, :] < max_lon)).flatten()\n",
    "    lat_mask = ((smap[f'latitude{suffix}'][:, :] >= min_lat) & (smap[f'latitude{suffix}'][:, :] < max_lat)).flatten()\n",
    "    return lon_mask & lat_mask\n",
    "\n",
    "def get_filter_mask(smap, suffix=''):\n",
    "    flag_exclude = (2 + 4)\n",
    "    min_lon, min_lat, max_lon, max_lat = BOUNDING_BOX\n",
    "    flag_mask = ((np.bitwise_and(smap[f'retrieval_qual_flag{suffix}'][:, :], flag_exclude) == 0)).flatten()\n",
    "\n",
    "    lon_mask = ((smap[f'longitude{suffix}'][:, :] >= min_lon) & (smap[f'longitude{suffix}'][:, :] < max_lon)).flatten()\n",
    "    lat_mask = ((smap[f'latitude{suffix}'][:, :] >= min_lat) & (smap[f'latitude{suffix}'][:, :] < max_lat)).flatten()\n",
    "\n",
    "    return flag_mask & lon_mask & lat_mask\n",
    "\n",
    "lats = []\n",
    "lons = []\n",
    "values = []\n",
    "for filename in sorted(glob.glob(os.path.join('../data/SPL3SMP_E/', '*.h5'))):\n",
    "    smap_file = h5py.File(filename)\n",
    "    for period in ['PM', 'AM']:\n",
    "        smap = smap_file[f'Soil_Moisture_Retrieval_Data_{period}']\n",
    "        suffix = '_pm' if period == 'PM' else ''\n",
    "        bbox_filter_mask = get_bbox_filter_mask(smap, suffix)\n",
    "        values.append(get_filter_mask(smap, suffix)[bbox_filter_mask])\n",
    "        lons.append(smap['longitude' + suffix][:, :].flatten()[bbox_filter_mask])\n",
    "        lats.append(smap['latitude' + suffix][:, :].flatten()[bbox_filter_mask])\n",
    "\n",
    "\n",
    "pd.DataFrame({'lat': np.concat(lats, axis=0), 'lon': np.concat(lons, axis=0), 'values': np.concat(values, axis=0)}).to_csv('../figures/pre_process/14_days_smap_flags_(falg 1 not excluded).csv', index=False)\n"
   ],
   "metadata": {
    "collapsed": false,
    "ExecuteTime": {
     "end_time": "2024-07-12T16:08:33.840123Z",
     "start_time": "2024-07-12T16:08:33.552821Z"
    }
   }
  },
  {
   "cell_type": "code",
   "execution_count": 49,
   "outputs": [],
   "source": [
    "# Boxplot\n",
    "def get_features(dataset_path):\n",
    "    data = np.load(dataset_path)\n",
    "    features = data[:, :data.shape[1] - (17 * 11)]\n",
    "    return features\n",
    "\n",
    "columns = CYNGNSS_FEATURES_HEADER.split(',')\n",
    "# 1st and 15th of each Month considered\n",
    "features = np.concat([get_features(path) for path in [f'../data/train_label/2022{i:02d}{j}.npy' for i in range(1, 13) for j in ['01','15']]], axis=0)\n",
    "df = pd.DataFrame(features, columns=columns[:len(columns) - (17 * 11)])\n",
    "\n",
    "\n",
    "for column in df.columns:\n",
    "    plt.figure()\n",
    "    df.boxplot([column])\n",
    "    plt.savefig(f'../figures/pre_process/boxblot_features/{column}.png')\n",
    "    plt.close()\n"
   ],
   "metadata": {
    "collapsed": false,
    "ExecuteTime": {
     "end_time": "2024-08-21T23:20:24.417791Z",
     "start_time": "2024-08-21T23:20:16.489964800Z"
    }
   }
  },
  {
   "cell_type": "code",
   "execution_count": 56,
   "outputs": [
    {
     "data": {
      "text/plain": "<Figure size 640x480 with 0 Axes>"
     },
     "metadata": {},
     "output_type": "display_data"
    },
    {
     "data": {
      "text/plain": "<Figure size 640x480 with 1 Axes>",
      "image/png": "[encoded data removed]"
     },
     "metadata": {},
     "output_type": "display_data"
    }
   ],
   "source": [
    "# Landcover hist\n",
    "plt.figure()\n",
    "df.hist('landcover', bins=50)\n",
    "plt.savefig(f'../figures/pre_process/landcover_hist.png')"
   ],
   "metadata": {
    "collapsed": false,
    "ExecuteTime": {
     "end_time": "2024-08-21T23:25:22.639169400Z",
     "start_time": "2024-08-21T23:25:22.520264800Z"
    }
   }
  },
  {
   "cell_type": "code",
   "execution_count": 67,
   "outputs": [],
   "source": [
    "corr = df.drop(['timestamp_lst', 'rounded_timestamps'], axis=1).corr()\n",
    "cmap = sns.diverging_palette(5, 250, as_cmap=True)\n",
    "\n",
    "def magnify():\n",
    "    return [dict(selector=\"th\",\n",
    "                 props=[(\"font-size\", \"7pt\")]),\n",
    "            dict(selector=\"td\",\n",
    "                 props=[('padding', \"0em 0em\")]),\n",
    "            dict(selector=\"th:hover\",\n",
    "                 props=[(\"font-size\", \"12pt\")]),\n",
    "            dict(selector=\"tr:hover td:hover\",\n",
    "                 props=[('max-width', '200px'),\n",
    "                        ('font-size', '12pt')])\n",
    "]\n",
    "\n",
    "corr.style.background_gradient(cmap, axis=1)\\\n",
    "    .format(precision=3)\\\n",
    "    .set_properties(**{'max-width': '80px', 'font-size': '10pt'})\\\n",
    "    .set_caption(\"Correlation Matrix\")\\\n",
    "    .set_table_styles(magnify()).to_html('../figures/pre_process/corr_matrix.html')\n",
    "\n",
    "np.abs(corr).style.background_gradient(cmap, axis=1)\\\n",
    "    .format(precision=3)\\\n",
    "    .set_properties(**{'max-width': '80px', 'font-size': '10pt'})\\\n",
    "    .set_caption(\"Correlation Matrix\")\\\n",
    "    .set_table_styles(magnify()).to_html('../figures/pre_process/abs_corr_matrix.html')"
   ],
   "metadata": {
    "collapsed": false,
    "ExecuteTime": {
     "end_time": "2024-08-21T23:40:44.852275700Z",
     "start_time": "2024-08-21T23:40:43.854098600Z"
    }
   }
  },
  {
   "cell_type": "code",
   "execution_count": null,
   "outputs": [],
   "source": [],
   "metadata": {
    "collapsed": false
   }
  }
 ],
 "metadata": {
  "kernelspec": {
   "display_name": "Python 3",
   "language": "python",
   "name": "python3"
  },
  "language_info": {
   "codemirror_mode": {
    "name": "ipython",
    "version": 2
   },
   "file_extension": ".py",
   "mimetype": "text/x-python",
   "name": "python",
   "nbconvert_exporter": "python",
   "pygments_lexer": "ipython2",
   "version": "2.7.6"
  }
 },
 "nbformat": 4,
 "nbformat_minor": 0
}
