{
 "cells": [
  {
   "cell_type": "code",
   "execution_count": 4,
   "outputs": [],
   "source": [
    "import earthaccess"
   ],
   "metadata": {
    "collapsed": false,
    "ExecuteTime": {
     "end_time": "2024-07-19T08:19:45.393856800Z",
     "start_time": "2024-07-19T08:19:45.390050400Z"
    }
   }
  },
  {
   "cell_type": "code",
   "execution_count": 7,
   "outputs": [],
   "source": [
    "from config import BOUNDING_BOX"
   ],
   "metadata": {
    "collapsed": false,
    "ExecuteTime": {
     "end_time": "2024-07-19T08:20:36.608467200Z",
     "start_time": "2024-07-19T08:20:36.606235200Z"
    }
   }
  },
  {
   "cell_type": "code",
   "execution_count": 2,
   "outputs": [],
   "source": [],
   "metadata": {
    "collapsed": false,
    "ExecuteTime": {
     "end_time": "2024-07-17T22:22:13.873242900Z",
     "start_time": "2024-07-17T22:22:13.869240600Z"
    }
   }
  },
  {
   "cell_type": "code",
   "execution_count": 5,
   "outputs": [
    {
     "data": {
      "text/plain": "<earthaccess.auth.Auth at 0x1e4610f1bb0>"
     },
     "execution_count": 5,
     "metadata": {},
     "output_type": "execute_result"
    }
   ],
   "source": [
    "earthaccess.login(persist=True)"
   ],
   "metadata": {
    "collapsed": false,
    "ExecuteTime": {
     "end_time": "2024-07-19T08:19:52.063525600Z",
     "start_time": "2024-07-19T08:19:48.197133200Z"
    }
   }
  },
  {
   "cell_type": "code",
   "execution_count": 9,
   "outputs": [
    {
     "name": "stdout",
     "output_type": "stream",
     "text": [
      "Granules found: 834\n"
     ]
    }
   ],
   "source": [
    "results = earthaccess.search_data(\n",
    "        short_name=\"SPL3SMP_E\",\n",
    "        bounding_box=BOUNDING_BOX,\n",
    "        temporal=('2022-08-07', '2024-01-01')\n",
    "    )"
   ],
   "metadata": {
    "collapsed": false,
    "ExecuteTime": {
     "end_time": "2024-07-19T08:20:49.418410900Z",
     "start_time": "2024-07-19T08:20:42.373602300Z"
    }
   }
  },
  {
   "cell_type": "code",
   "execution_count": 5,
   "outputs": [
    {
     "name": "stdout",
     "output_type": "stream",
     "text": [
      " Getting 6 granules, approx download size: 3.75 GB\n"
     ]
    },
    {
     "data": {
      "text/plain": "QUEUEING TASKS | :   0%|          | 0/6 [00:00<?, ?it/s]",
      "application/vnd.jupyter.widget-view+json": {
       "version_major": 2,
       "version_minor": 0,
       "model_id": "f50d1216742a4cc6b062536cf83ae5cd"
      }
     },
     "metadata": {},
     "output_type": "display_data"
    },
    {
     "data": {
      "text/plain": "PROCESSING TASKS | :   0%|          | 0/6 [00:00<?, ?it/s]",
      "application/vnd.jupyter.widget-view+json": {
       "version_major": 2,
       "version_minor": 0,
       "model_id": "6ab64da4655e4a90a7dbd6e1e5280280"
      }
     },
     "metadata": {},
     "output_type": "display_data"
    },
    {
     "data": {
      "text/plain": "COLLECTING RESULTS | :   0%|          | 0/6 [00:00<?, ?it/s]",
      "application/vnd.jupyter.widget-view+json": {
       "version_major": 2,
       "version_minor": 0,
       "model_id": "c2a97f6866064c6285b8fd859d23ed40"
      }
     },
     "metadata": {},
     "output_type": "display_data"
    },
    {
     "data": {
      "text/plain": "['C:\\\\Users\\\\akoos\\\\PycharmProjects\\\\cygnss_ddm_to_sm\\\\data\\\\SPL3SMP_E\\\\SMAP_L3_SM_P_E_20220101_R18290_001.h5',\n 'C:\\\\Users\\\\akoos\\\\PycharmProjects\\\\cygnss_ddm_to_sm\\\\data\\\\SPL3SMP_E\\\\SMAP_L3_SM_P_E_20220101_R19240_001.h5',\n 'C:\\\\Users\\\\akoos\\\\PycharmProjects\\\\cygnss_ddm_to_sm\\\\data\\\\SPL3SMP_E\\\\SMAP_L3_SM_P_E_20220102_R18290_001.h5',\n 'C:\\\\Users\\\\akoos\\\\PycharmProjects\\\\cygnss_ddm_to_sm\\\\data\\\\SPL3SMP_E\\\\SMAP_L3_SM_P_E_20220102_R19240_001.h5',\n 'C:\\\\Users\\\\akoos\\\\PycharmProjects\\\\cygnss_ddm_to_sm\\\\data\\\\SPL3SMP_E\\\\SMAP_L3_SM_P_E_20220103_R18290_001.h5',\n 'C:\\\\Users\\\\akoos\\\\PycharmProjects\\\\cygnss_ddm_to_sm\\\\data\\\\SPL3SMP_E\\\\SMAP_L3_SM_P_E_20220103_R19240_001.h5']"
     },
     "execution_count": 5,
     "metadata": {},
     "output_type": "execute_result"
    }
   ],
   "source": [
    "earthaccess.download(results, \"C:\\\\Users\\\\akoos\\\\PycharmProjects\\\\cygnss_ddm_to_sm\\\\data\\\\SPL3SMP_E\")"
   ],
   "metadata": {
    "collapsed": false,
    "ExecuteTime": {
     "end_time": "2024-07-17T21:02:58.600065500Z",
     "start_time": "2024-07-17T20:59:30.395139800Z"
    }
   }
  },
  {
   "cell_type": "code",
   "execution_count": 10,
   "outputs": [],
   "source": [
    "with open('smap_urls_2.txt', 'w') as f:\n",
    "    for g in results:\n",
    "        for url in g.data_links(access='on_prem'):\n",
    "            f.write(url + '\\n')"
   ],
   "metadata": {
    "collapsed": false,
    "ExecuteTime": {
     "end_time": "2024-07-19T08:21:27.261642500Z",
     "start_time": "2024-07-19T08:21:27.254237100Z"
    }
   }
  },
  {
   "cell_type": "code",
   "execution_count": null,
   "outputs": [],
   "source": [],
   "metadata": {
    "collapsed": false
   }
  }
 ],
 "metadata": {
  "kernelspec": {
   "display_name": "Python 3",
   "language": "python",
   "name": "python3"
  },
  "language_info": {
   "codemirror_mode": {
    "name": "ipython",
    "version": 2
   },
   "file_extension": ".py",
   "mimetype": "text/x-python",
   "name": "python",
   "nbconvert_exporter": "python",
   "pygments_lexer": "ipython2",
   "version": "2.7.6"
  }
 },
 "nbformat": 4,
 "nbformat_minor": 0
}
